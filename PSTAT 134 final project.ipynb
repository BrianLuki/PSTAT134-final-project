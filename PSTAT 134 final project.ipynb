{
 "cells": [
  {
   "cell_type": "markdown",
   "id": "4c98c238-323b-414c-93b7-0b4d388418f6",
   "metadata": {},
   "source": [
    "# Recommender Systems with Collaborative Filtering: Recommending Restaurants\n",
    "\n",
    "An exploration of recommender systems to recommend restaurants given either a restaurant or a user, adapted item-based collaborative filtering concepts and techniques.\n",
    "\n",
    "#### Kuan-I Lu / Lucas Joseph / Caitlyn Vasquez / Richard Keith\n",
    "#### 2024-12-11"
   ]
  },
  {
   "cell_type": "markdown",
   "id": "d2bab89b-9a8a-47f0-a608-a58630eb20f0",
   "metadata": {},
   "source": [
    "## Introduction "
   ]
  },
  {
   "cell_type": "markdown",
   "id": "65b83c54",
   "metadata": {},
   "source": [
    "Our group implemented an *item-based collaborative filtering recommender system* to generate restaurant recommendations using a publicly available dataset of businesses and user reviews from Yelp. After fitting a K-nearest neighbors model to the dataset, we used the model to generate 10 restaurant recommendations using similarity between restaurants given either a restaurant or a user.\n",
    "\n",
    "Our group was interested in a project where we were able to work with a large dataset and create a model that we ourselves could use. The Yelp dataset that we chose is extensive enough to generate useful results and include restaurants in Santa Barbara and our respective hometowns. "
   ]
  },
  {
   "cell_type": "markdown",
   "id": "dfa05e7c-8323-4c54-b986-dacb3e4bc11d",
   "metadata": {},
   "source": [
    "### Data Description"
   ]
  },
  {
   "cell_type": "markdown",
   "id": "8af2cc33-970f-41fb-9196-41faa6d03ac4",
   "metadata": {},
   "source": [
    "We obtained our restaurant review datasets by downloading Yelp’s public dataset, which included data for the business (restaurant) reviews for each restaurant by multiple users. Since the algorithm and the model we adapted is not time sensitive and doesn’t require real time data, we didn’t choose to use API and use the static dataset instead. Also, we’re only focusing on variables required for collaborative filtering which are `review_id`, `user_id`, `restaurant`, and `stars`(ratings). The link to the dataset can be found [here](https://www.yelp.com/dataset/download)."
   ]
  },
  {
   "cell_type": "markdown",
   "id": "ec3fb65b-90c4-4960-aeb9-5b294f5731e7",
   "metadata": {},
   "source": [
    "## Methodology"
   ]
  },
  {
   "cell_type": "markdown",
   "id": "5cb1da50",
   "metadata": {},
   "source": [
    "### Background Information\n",
    "\n",
    "There are two types of recommender systems: \n",
    "\n",
    "- **Content-based** systems involve using the properties of the items(or in our case restaurants) themselves to find similar items that the user is most likely to enjoy. This can be done by transforming the features of an item into a vector, calculating the distance between vectors of other items using cosine similarity, and returning items with high similarity.\n",
    "\n",
    "- **Collaborative filtering** systems instead involve using user ratings to compute the similarity between either users or items, to generate a new rating. \n",
    "\n",
    "    - In a user based system, a user’s ratings for items are vectorized and then used to calculate cosine similarity between each user.\n",
    "\n",
    "    - In an item based system, an item's ratings by all users are vectorized and used to calculate cosine similarity between each item.\n",
    "\n",
    "Across both types of systems, the metric of **cosine similarity** is the basis for generating predictions:\n",
    "\n",
    "$$S_C(A, B) := cos(\\theta) = \\frac{A \\cdot B}{\\|A\\|\\|B \\|} = \\frac{\\sum_{i=1}^{n}{A_iB_i}}{\\sqrt{\\sum_{i=1}^{n}A_i^2}\\cdot\\sqrt{\\sum_{i=1}^{n}B_i^2}}$$\n",
    "\n",
    "We can use cosine similarity to calculate the distance between two vectors. A larger value implies a lower distance and higher similarity, and a lower value implies higher distance and lower similarity.\n",
    "\n",
    "For the final step to implement our desired model of a collaborative filtering system, we will use the `NearestNeighbors` function from the `sklearn` package to compute pairwise distance between all items or users in the dataset using cosine similarity. This allows us to return a list of the restuarants with the highest cosine similarity.\n",
    "\n"
   ]
  },
  {
   "cell_type": "markdown",
   "id": "d863ef33-e98b-47f6-8a70-28e04396f1be",
   "metadata": {},
   "source": [
    "### Project Steps\n",
    "For this project, we want to adapt the item-based collaborative filtering to return 10 recommended restaurants for a given input (a restaurant or a user). The approach we're going with is to first create the user item matrix, which has all unique values on one axis and all unique restaurants on the other. The values that this matrix takes are the ratings of the corresponding restaurant by the corresponding user. Note that this will be a sparse and large matrix, which is less of a problem to our cosine similarity approach. \n",
    "\n",
    "The goal of the first model is to input a restaurant and recommend similar ones. Using the user-item matrix we obtained, we compute the cosine similarity between the selected restaurant and all other restaurants, from which we select 10 restaurants with the closest distance as our recommendations. To achieve this, we leverage the `NearestNeighbors` function in the `sklearn.neighbors` package.\n",
    "\n",
    "For the second model, we want to build on the first dataset and change the input from a restaurant to a user. The goal of this model is to recommend restaurants given a user's history and preference (extracted from their past ratings). The model takes a user existing in the data set as input, and creates a list of all the top rated restaurants by this user. From this list, the model then uses the same KNN method with cosine similarity to create a combined list of 10 recommendations for each of the top rated restaurants. From the recommended list we then filtered out the user rated restaurants (so that we don't recommend places the users have already been to), and then returned 10 restaurants with the closest cosine similarity. \n"
   ]
  },
  {
   "cell_type": "markdown",
   "id": "e414aabf-25c6-4155-ab51-d02077263151",
   "metadata": {},
   "source": [
    "### Load and Clean the Dataset"
   ]
  },
  {
   "cell_type": "markdown",
   "id": "85648e27-d123-4921-be20-b5e3f72c4050",
   "metadata": {},
   "source": [
    "Here we will be cleaning the dataset with pandas and numpy. "
   ]
  },
  {
   "cell_type": "code",
   "execution_count": 4,
   "id": "2e80fdea-c02e-449a-a888-9a336c0bb3e7",
   "metadata": {
    "scrolled": true
   },
   "outputs": [],
   "source": [
    "#!pip install missingno\n",
    "import pandas as pd\n",
    "import numpy as np\n",
    "import matplotlib.pyplot as plt\n",
    "import seaborn as sns\n",
    "import re\n",
    "import warnings\n",
    "import missingno as msno\n",
    "import pandoc\n",
    "warnings.filterwarnings('ignore')"
   ]
  },
  {
   "cell_type": "code",
   "execution_count": 6,
   "id": "0664eed0-004e-4824-a310-f6580ee6c2c0",
   "metadata": {},
   "outputs": [],
   "source": [
    "business = pd.read_json(r\"C:\\Users\\brian\\Projects\\PSTAT 134\\data\\yelp_academic_dataset_business.json\", lines=True)\n",
    "review = pd.read_json(r\"C:\\Users\\brian\\Projects\\PSTAT 134\\data\\yelp_academic_dataset_review.json\", lines=True)"
   ]
  },
  {
   "cell_type": "code",
   "execution_count": 7,
   "id": "fdfb5690-b31d-4510-9ffc-b99230904644",
   "metadata": {},
   "outputs": [
    {
     "name": "stdout",
     "output_type": "stream",
     "text": [
      "Number of businesses:  150346\n",
      "Number of reviews:  6990280\n",
      "Number of reviewed businesses:  150346\n",
      "Number of users who left a reiew:  1987929\n"
     ]
    }
   ],
   "source": [
    "# Select only the useful column from review\n",
    "review = review[['review_id', 'user_id', 'business_id', 'stars', 'useful', 'funny', 'cool']]\n",
    "\n",
    "# Check the unique values of the dataset\n",
    "print(\"Number of businesses: \", business['business_id'].nunique())\n",
    "print(\"Number of reviews: \", review.shape[0])\n",
    "print(\"Number of reviewed businesses: \", review['business_id'].nunique())\n",
    "print(\"Number of users who left a reiew: \", review['user_id'].nunique())"
   ]
  },
  {
   "cell_type": "markdown",
   "id": "f8e900b6-914c-44ad-a5d4-e77194e361d0",
   "metadata": {},
   "source": [
    "From the business dataset, we have information of 150,346 distinct businesses.\n",
    "From the review dataset, we have 6,990,280 reviews, on the 150,346 distinct businesses, by 1,987,929 distinct users.\n",
    "   \n",
    "Note we will mainly use the review dataset for our model since that's what's required for the collaborative filtering algorithm."
   ]
  },
  {
   "cell_type": "markdown",
   "id": "ea598cdd-a4c7-4cd8-b242-f8395a6ee42b",
   "metadata": {},
   "source": [
    "### Data Cleaning"
   ]
  },
  {
   "cell_type": "markdown",
   "id": "71524187-705b-46cd-986f-656c9eb44fa2",
   "metadata": {},
   "source": [
    "#### `restaurants`"
   ]
  },
  {
   "cell_type": "markdown",
   "id": "b834b5ce-e93c-45f3-b5da-711f9ad776f6",
   "metadata": {},
   "source": [
    "First, since this project is a restaurant recommender, and Yelp contains all kinds of business in their dataset, we will focus on the businesses with \"Food\" or \"Restaurants\" in their `categories`. After filtering, we call the filtered dataset \"restaurant\"."
   ]
  },
  {
   "cell_type": "code",
   "execution_count": 8,
   "id": "bb3e1cb6-bf43-4d3a-b9ec-c0ab35a68cc7",
   "metadata": {},
   "outputs": [
    {
     "name": "stdout",
     "output_type": "stream",
     "text": [
      "Number of restaurants:  64616\n"
     ]
    }
   ],
   "source": [
    "# Filter only businesses that are restaurants\n",
    "restaurants = business[business['categories'].str.contains(\"Food|Restaurants\", na=False, case=False)]\n",
    "\n",
    "print(\"Number of restaurants: \", restaurants['business_id'].nunique())"
   ]
  },
  {
   "cell_type": "markdown",
   "id": "378491b7-4437-4bfe-a06e-f4149c0a72a4",
   "metadata": {},
   "source": [
    "Note that now we only have 64616 unique restaurants.\n",
    "\n",
    "In addition, we also want to focus on the restaurants that are still in business (ie. `is_open` = 1)."
   ]
  },
  {
   "cell_type": "code",
   "execution_count": 9,
   "id": "22da8011-fce1-4d16-b107-1cbe565fa34f",
   "metadata": {},
   "outputs": [
    {
     "name": "stdout",
     "output_type": "stream",
     "text": [
      "Number of restaurants in business:  44582\n"
     ]
    }
   ],
   "source": [
    "restaurants = restaurants[restaurants['is_open'] == 1]\n",
    "\n",
    "print(\"Number of restaurants in business: \", restaurants['business_id'].nunique())"
   ]
  },
  {
   "cell_type": "markdown",
   "id": "60895bcb-b1b0-4cd0-9cca-3c2f88fe0c92",
   "metadata": {},
   "source": [
    "Note that we only have 44582 restaurants in business."
   ]
  },
  {
   "cell_type": "markdown",
   "id": "e7ae8bb9-8493-4fb5-8fe5-fc1ce363f90e",
   "metadata": {},
   "source": [
    "#### `review_clean`"
   ]
  },
  {
   "cell_type": "markdown",
   "id": "dd6e30c2-affc-4a20-866c-c3426805a5fc",
   "metadata": {},
   "source": [
    "For the sake of saving memory space, we filter out the text review the moment we imported the review data. Notice that the explicit data include stars, useful, funny, and cool, which we will focus on using stars for the purpose of this project. In addition, we assign the review id as the row number of that review."
   ]
  },
  {
   "cell_type": "code",
   "execution_count": 10,
   "id": "72c00e89-76a2-4412-9493-f906de0418fa",
   "metadata": {},
   "outputs": [],
   "source": [
    "# Select the useful columns\n",
    "review_clean = (\n",
    "    review\n",
    "    .assign(review_id=lambda x: x.index)  # Create `review_id` \n",
    "    .loc[:, ['review_id', 'user_id', 'business_id', 'stars']]  # Select necessary columns\n",
    ")"
   ]
  },
  {
   "cell_type": "markdown",
   "id": "7127e19d-f077-4673-b58a-90e66070ac28",
   "metadata": {},
   "source": [
    "Also, since we're only focusing on the restaurants, we only want to work with reviews on restaurants (businesses_ids in the restaurant dataset)."
   ]
  },
  {
   "cell_type": "code",
   "execution_count": 11,
   "id": "b3eb825d-10b2-4506-a9b2-28ad8d51ff70",
   "metadata": {},
   "outputs": [
    {
     "name": "stdout",
     "output_type": "stream",
     "text": [
      "Number of reviews on restaurants:  4104995\n",
      "Number of reviewed restaurants:  44582\n",
      "Number of users who left a reiew on restaurants:  1333169\n"
     ]
    }
   ],
   "source": [
    "# Filter only reviews on restaurants\n",
    "review_clean = review_clean[\n",
    "    review_clean['business_id'].isin(restaurants['business_id'])\n",
    "]\n",
    "\n",
    "print(\"Number of reviews on restaurants: \", review_clean.shape[0])\n",
    "print(\"Number of reviewed restaurants: \", review_clean['business_id'].nunique())\n",
    "print(\"Number of users who left a reiew on restaurants: \", review_clean['user_id'].nunique())"
   ]
  },
  {
   "cell_type": "markdown",
   "id": "b092c26f-2638-4a84-8594-b1ae49f19da7",
   "metadata": {},
   "source": [
    "After filtering, we reduce the number of reviews to 4104995, with 44582 restaurants rated by 1333169 users.\n",
    "  \n",
    "Lastly, we check for missing values to see if any imputation is needed."
   ]
  },
  {
   "cell_type": "code",
   "execution_count": 12,
   "id": "00bb863d-80d3-49ff-88e5-c63512057e90",
   "metadata": {},
   "outputs": [
    {
     "name": "stdout",
     "output_type": "stream",
     "text": [
      "Missing values: 0\n"
     ]
    },
    {
     "data": {
      "text/plain": [
       "<Figure size 400x200 with 0 Axes>"
      ]
     },
     "metadata": {},
     "output_type": "display_data"
    },
    {
     "data": {
      "image/png": "[encoded data removed]",
      "text/plain": [
       "<Figure size 2500x1000 with 2 Axes>"
      ]
     },
     "metadata": {},
     "output_type": "display_data"
    }
   ],
   "source": [
    "# Plot the missing value graph\n",
    "plt.figure(figsize=(4, 2))\n",
    "msno.matrix(review_clean)\n",
    "\n",
    "# Count missing values\n",
    "missing_values = [x is None or (isinstance(x, float) and np.isnan(x)) for x in review_clean]\n",
    "print(f\"Missing values: {sum(missing_values)}\")"
   ]
  },
  {
   "cell_type": "markdown",
   "id": "9c147ebf-b3ca-433b-a0e9-897fd1f73e59",
   "metadata": {},
   "source": [
    "Luckily, there are no missing vlaues. Let's further inspect the dataset."
   ]
  },
  {
   "cell_type": "code",
   "execution_count": 13,
   "id": "289551c0-eb05-4556-ba7c-e21d056339a9",
   "metadata": {},
   "outputs": [
    {
     "data": {
      "text/html": [
       "<div>\n",
       "<style scoped>\n",
       "    .dataframe tbody tr th:only-of-type {\n",
       "        vertical-align: middle;\n",
       "    }\n",
       "\n",
       "    .dataframe tbody tr th {\n",
       "        vertical-align: top;\n",
       "    }\n",
       "\n",
       "    .dataframe thead th {\n",
       "        text-align: right;\n",
       "    }\n",
       "</style>\n",
       "<table border=\"1\" class=\"dataframe\">\n",
       "  <thead>\n",
       "    <tr style=\"text-align: right;\">\n",
       "      <th></th>\n",
       "      <th>review_id</th>\n",
       "      <th>user_id</th>\n",
       "      <th>business_id</th>\n",
       "      <th>stars</th>\n",
       "    </tr>\n",
       "  </thead>\n",
       "  <tbody>\n",
       "    <tr>\n",
       "      <th>0</th>\n",
       "      <td>0</td>\n",
       "      <td>mh_-eMZ6K5RLWhZyISBhwA</td>\n",
       "      <td>XQfwVwDr-v0ZS3_CbbE5Xw</td>\n",
       "      <td>3</td>\n",
       "    </tr>\n",
       "    <tr>\n",
       "      <th>2</th>\n",
       "      <td>2</td>\n",
       "      <td>8g_iMtfSiwikVnbP2etR0A</td>\n",
       "      <td>YjUWPpI6HXG530lwP-fb2A</td>\n",
       "      <td>3</td>\n",
       "    </tr>\n",
       "    <tr>\n",
       "      <th>3</th>\n",
       "      <td>3</td>\n",
       "      <td>_7bHUi9Uuf5__HHc_Q8guQ</td>\n",
       "      <td>kxX2SOes4o-D3ZQBkiMRfA</td>\n",
       "      <td>5</td>\n",
       "    </tr>\n",
       "    <tr>\n",
       "      <th>9</th>\n",
       "      <td>9</td>\n",
       "      <td>59MxRhNVhU9MYndMkz0wtw</td>\n",
       "      <td>gebiRewfieSdtt17PTW6Zg</td>\n",
       "      <td>3</td>\n",
       "    </tr>\n",
       "    <tr>\n",
       "      <th>11</th>\n",
       "      <td>11</td>\n",
       "      <td>ZbqSHbgCjzVAqaa7NKWn5A</td>\n",
       "      <td>EQ-TZ2eeD_E0BHuvoaeG5Q</td>\n",
       "      <td>4</td>\n",
       "    </tr>\n",
       "  </tbody>\n",
       "</table>\n",
       "</div>"
      ],
      "text/plain": [
       "    review_id                 user_id             business_id  stars\n",
       "0           0  mh_-eMZ6K5RLWhZyISBhwA  XQfwVwDr-v0ZS3_CbbE5Xw      3\n",
       "2           2  8g_iMtfSiwikVnbP2etR0A  YjUWPpI6HXG530lwP-fb2A      3\n",
       "3           3  _7bHUi9Uuf5__HHc_Q8guQ  kxX2SOes4o-D3ZQBkiMRfA      5\n",
       "9           9  59MxRhNVhU9MYndMkz0wtw  gebiRewfieSdtt17PTW6Zg      3\n",
       "11         11  ZbqSHbgCjzVAqaa7NKWn5A  EQ-TZ2eeD_E0BHuvoaeG5Q      4"
      ]
     },
     "execution_count": 13,
     "metadata": {},
     "output_type": "execute_result"
    }
   ],
   "source": [
    "review_clean.head(5)"
   ]
  },
  {
   "cell_type": "markdown",
   "id": "718c02a4-b574-45b5-84e5-d1cff6a0bd33",
   "metadata": {},
   "source": [
    "Furthermore, note that the `user_id` and `business_id` is messy, we want to change the `user_id` into unique numerical values and the `business_id` to restaurant names."
   ]
  },
  {
   "cell_type": "code",
   "execution_count": 14,
   "id": "55e63d7c-ee15-4721-94e1-b6c27902db22",
   "metadata": {},
   "outputs": [],
   "source": [
    "# Create a distionary mapping unique user_id to unique numerical values\n",
    "user_id_mapping = {user_id: idx for idx, user_id in enumerate(review_clean['user_id'].unique())}\n",
    "# Create a dictionry mapping unique business_id to restaurant name\n",
    "restaurants_id_mapping = restaurants.set_index('business_id')['name'].to_dict()\n",
    "\n",
    "# Map `user_id` and `business_id` in `review_clean`\n",
    "review_clean['user_id'] = review_clean['user_id'].map(user_id_mapping)\n",
    "review_clean['business_id'] = review_clean['business_id'].map(restaurants_id_mapping)\n",
    "\n",
    "# Rename `business_id` column to `restaurant`\n",
    "review_clean = review_clean.rename(columns={'business_id': 'restaurant'})"
   ]
  },
  {
   "cell_type": "code",
   "execution_count": 15,
   "id": "cd8410ee-d6f7-49b7-815e-b7a1d5854490",
   "metadata": {},
   "outputs": [
    {
     "data": {
      "text/html": [
       "<div>\n",
       "<style scoped>\n",
       "    .dataframe tbody tr th:only-of-type {\n",
       "        vertical-align: middle;\n",
       "    }\n",
       "\n",
       "    .dataframe tbody tr th {\n",
       "        vertical-align: top;\n",
       "    }\n",
       "\n",
       "    .dataframe thead th {\n",
       "        text-align: right;\n",
       "    }\n",
       "</style>\n",
       "<table border=\"1\" class=\"dataframe\">\n",
       "  <thead>\n",
       "    <tr style=\"text-align: right;\">\n",
       "      <th></th>\n",
       "      <th>review_id</th>\n",
       "      <th>user_id</th>\n",
       "      <th>restaurant</th>\n",
       "      <th>stars</th>\n",
       "    </tr>\n",
       "  </thead>\n",
       "  <tbody>\n",
       "    <tr>\n",
       "      <th>0</th>\n",
       "      <td>0</td>\n",
       "      <td>0</td>\n",
       "      <td>Turning Point of North Wales</td>\n",
       "      <td>3</td>\n",
       "    </tr>\n",
       "    <tr>\n",
       "      <th>2</th>\n",
       "      <td>2</td>\n",
       "      <td>1</td>\n",
       "      <td>Kettle Restaurant</td>\n",
       "      <td>3</td>\n",
       "    </tr>\n",
       "    <tr>\n",
       "      <th>3</th>\n",
       "      <td>3</td>\n",
       "      <td>2</td>\n",
       "      <td>Zaika</td>\n",
       "      <td>5</td>\n",
       "    </tr>\n",
       "    <tr>\n",
       "      <th>9</th>\n",
       "      <td>9</td>\n",
       "      <td>3</td>\n",
       "      <td>Hibachi Steak House &amp; Sushi Bar</td>\n",
       "      <td>3</td>\n",
       "    </tr>\n",
       "    <tr>\n",
       "      <th>11</th>\n",
       "      <td>11</td>\n",
       "      <td>4</td>\n",
       "      <td>Milktooth</td>\n",
       "      <td>4</td>\n",
       "    </tr>\n",
       "  </tbody>\n",
       "</table>\n",
       "</div>"
      ],
      "text/plain": [
       "    review_id  user_id                       restaurant  stars\n",
       "0           0        0     Turning Point of North Wales      3\n",
       "2           2        1                Kettle Restaurant      3\n",
       "3           3        2                            Zaika      5\n",
       "9           9        3  Hibachi Steak House & Sushi Bar      3\n",
       "11         11        4                        Milktooth      4"
      ]
     },
     "execution_count": 15,
     "metadata": {},
     "output_type": "execute_result"
    }
   ],
   "source": [
    "review_clean.head(5)"
   ]
  },
  {
   "cell_type": "markdown",
   "id": "805d68a5-69ad-4c2e-866a-4dee2d72c877",
   "metadata": {},
   "source": [
    "#### `user_item_rating`"
   ]
  },
  {
   "cell_type": "markdown",
   "id": "9ec2f201-6f6d-4432-a2de-981242e664a4",
   "metadata": {},
   "source": [
    "Let's assess the distribution of ratings per person first."
   ]
  },
  {
   "cell_type": "code",
   "execution_count": 16,
   "id": "d3245fb7-b2a9-45c3-8c09-4cf219c90143",
   "metadata": {},
   "outputs": [
    {
     "data": {
      "text/plain": [
       "user_id\n",
       "500        1461\n",
       "351        1174\n",
       "266         993\n",
       "4199        888\n",
       "195900      865\n",
       "           ... \n",
       "699558        1\n",
       "699560        1\n",
       "14038         1\n",
       "699563        1\n",
       "1333168       1\n",
       "Name: count, Length: 1333169, dtype: int64"
      ]
     },
     "execution_count": 16,
     "metadata": {},
     "output_type": "execute_result"
    }
   ],
   "source": [
    "selected_users = review_clean[\"user_id\"].value_counts()\n",
    "selected_users"
   ]
  },
  {
   "cell_type": "markdown",
   "id": "4980895f-979d-415a-97d4-0d328ae62cf3",
   "metadata": {},
   "source": [
    "Although some users rated over 1000 restaurants, a lot of them rated very few restaurants, some even only rated one. To increase usefulness of data and decrease computational burden, we want to filter out users reviewing less than 20 restaurants."
   ]
  },
  {
   "cell_type": "code",
   "execution_count": 17,
   "id": "49f240a0-86d5-46b7-889c-cf62421b48a4",
   "metadata": {},
   "outputs": [
    {
     "data": {
      "text/plain": [
       "24566"
      ]
     },
     "execution_count": 17,
     "metadata": {},
     "output_type": "execute_result"
    }
   ],
   "source": [
    "review_clean_20up = review_clean[review_clean[\"user_id\"].isin(selected_users[selected_users >= 20].index)]\n",
    "\n",
    "review_clean_20up['user_id'].nunique()"
   ]
  },
  {
   "cell_type": "markdown",
   "id": "1dd352d5-3d74-454d-bb47-d8ef72d2ac87",
   "metadata": {},
   "source": [
    "Note that we're now working with only 24566 users.\n",
    "\n",
    "We now want to create the pivot table (user-item matrix), which is essential for collborative filtering."
   ]
  },
  {
   "cell_type": "code",
   "execution_count": 18,
   "id": "8a378ec9-6d06-4782-bf7f-444bdad7019f",
   "metadata": {},
   "outputs": [
    {
     "data": {
      "text/html": [
       "<div>\n",
       "<style scoped>\n",
       "    .dataframe tbody tr th:only-of-type {\n",
       "        vertical-align: middle;\n",
       "    }\n",
       "\n",
       "    .dataframe tbody tr th {\n",
       "        vertical-align: top;\n",
       "    }\n",
       "\n",
       "    .dataframe thead th {\n",
       "        text-align: right;\n",
       "    }\n",
       "</style>\n",
       "<table border=\"1\" class=\"dataframe\">\n",
       "  <thead>\n",
       "    <tr style=\"text-align: right;\">\n",
       "      <th>user_id</th>\n",
       "      <th>0</th>\n",
       "      <th>1</th>\n",
       "      <th>9</th>\n",
       "      <th>10</th>\n",
       "      <th>19</th>\n",
       "      <th>20</th>\n",
       "      <th>23</th>\n",
       "      <th>28</th>\n",
       "      <th>30</th>\n",
       "      <th>31</th>\n",
       "      <th>...</th>\n",
       "      <th>610131</th>\n",
       "      <th>610611</th>\n",
       "      <th>612499</th>\n",
       "      <th>612967</th>\n",
       "      <th>622485</th>\n",
       "      <th>636698</th>\n",
       "      <th>636724</th>\n",
       "      <th>641427</th>\n",
       "      <th>659509</th>\n",
       "      <th>934670</th>\n",
       "    </tr>\n",
       "    <tr>\n",
       "      <th>restaurant</th>\n",
       "      <th></th>\n",
       "      <th></th>\n",
       "      <th></th>\n",
       "      <th></th>\n",
       "      <th></th>\n",
       "      <th></th>\n",
       "      <th></th>\n",
       "      <th></th>\n",
       "      <th></th>\n",
       "      <th></th>\n",
       "      <th></th>\n",
       "      <th></th>\n",
       "      <th></th>\n",
       "      <th></th>\n",
       "      <th></th>\n",
       "      <th></th>\n",
       "      <th></th>\n",
       "      <th></th>\n",
       "      <th></th>\n",
       "      <th></th>\n",
       "      <th></th>\n",
       "    </tr>\n",
       "  </thead>\n",
       "  <tbody>\n",
       "    <tr>\n",
       "      <th>#1 Mongolian BBQ - Best Stir Fried Noodles In Boise</th>\n",
       "      <td>0.0</td>\n",
       "      <td>0.0</td>\n",
       "      <td>0.0</td>\n",
       "      <td>0.0</td>\n",
       "      <td>0.0</td>\n",
       "      <td>0.0</td>\n",
       "      <td>0.0</td>\n",
       "      <td>0.0</td>\n",
       "      <td>0.0</td>\n",
       "      <td>0.0</td>\n",
       "      <td>...</td>\n",
       "      <td>0.0</td>\n",
       "      <td>0.0</td>\n",
       "      <td>0.0</td>\n",
       "      <td>0.0</td>\n",
       "      <td>0.0</td>\n",
       "      <td>0.0</td>\n",
       "      <td>0.0</td>\n",
       "      <td>0.0</td>\n",
       "      <td>0.0</td>\n",
       "      <td>0.0</td>\n",
       "    </tr>\n",
       "    <tr>\n",
       "      <th>$5 Fresh Burger Stop</th>\n",
       "      <td>0.0</td>\n",
       "      <td>0.0</td>\n",
       "      <td>0.0</td>\n",
       "      <td>0.0</td>\n",
       "      <td>0.0</td>\n",
       "      <td>0.0</td>\n",
       "      <td>0.0</td>\n",
       "      <td>0.0</td>\n",
       "      <td>0.0</td>\n",
       "      <td>0.0</td>\n",
       "      <td>...</td>\n",
       "      <td>0.0</td>\n",
       "      <td>0.0</td>\n",
       "      <td>0.0</td>\n",
       "      <td>0.0</td>\n",
       "      <td>0.0</td>\n",
       "      <td>0.0</td>\n",
       "      <td>0.0</td>\n",
       "      <td>0.0</td>\n",
       "      <td>0.0</td>\n",
       "      <td>0.0</td>\n",
       "    </tr>\n",
       "    <tr>\n",
       "      <th>&amp;pizza - UPenn</th>\n",
       "      <td>0.0</td>\n",
       "      <td>0.0</td>\n",
       "      <td>0.0</td>\n",
       "      <td>0.0</td>\n",
       "      <td>0.0</td>\n",
       "      <td>0.0</td>\n",
       "      <td>0.0</td>\n",
       "      <td>0.0</td>\n",
       "      <td>0.0</td>\n",
       "      <td>0.0</td>\n",
       "      <td>...</td>\n",
       "      <td>0.0</td>\n",
       "      <td>0.0</td>\n",
       "      <td>0.0</td>\n",
       "      <td>0.0</td>\n",
       "      <td>0.0</td>\n",
       "      <td>0.0</td>\n",
       "      <td>0.0</td>\n",
       "      <td>0.0</td>\n",
       "      <td>0.0</td>\n",
       "      <td>0.0</td>\n",
       "    </tr>\n",
       "    <tr>\n",
       "      <th>&amp;pizza - Walnut</th>\n",
       "      <td>0.0</td>\n",
       "      <td>0.0</td>\n",
       "      <td>0.0</td>\n",
       "      <td>0.0</td>\n",
       "      <td>0.0</td>\n",
       "      <td>0.0</td>\n",
       "      <td>0.0</td>\n",
       "      <td>0.0</td>\n",
       "      <td>0.0</td>\n",
       "      <td>0.0</td>\n",
       "      <td>...</td>\n",
       "      <td>0.0</td>\n",
       "      <td>0.0</td>\n",
       "      <td>0.0</td>\n",
       "      <td>0.0</td>\n",
       "      <td>0.0</td>\n",
       "      <td>0.0</td>\n",
       "      <td>0.0</td>\n",
       "      <td>0.0</td>\n",
       "      <td>0.0</td>\n",
       "      <td>0.0</td>\n",
       "    </tr>\n",
       "    <tr>\n",
       "      <th>&amp;pizza - Willow Grove</th>\n",
       "      <td>0.0</td>\n",
       "      <td>0.0</td>\n",
       "      <td>0.0</td>\n",
       "      <td>0.0</td>\n",
       "      <td>0.0</td>\n",
       "      <td>0.0</td>\n",
       "      <td>0.0</td>\n",
       "      <td>0.0</td>\n",
       "      <td>0.0</td>\n",
       "      <td>0.0</td>\n",
       "      <td>...</td>\n",
       "      <td>0.0</td>\n",
       "      <td>0.0</td>\n",
       "      <td>0.0</td>\n",
       "      <td>0.0</td>\n",
       "      <td>0.0</td>\n",
       "      <td>0.0</td>\n",
       "      <td>0.0</td>\n",
       "      <td>0.0</td>\n",
       "      <td>0.0</td>\n",
       "      <td>0.0</td>\n",
       "    </tr>\n",
       "  </tbody>\n",
       "</table>\n",
       "<p>5 rows × 24566 columns</p>\n",
       "</div>"
      ],
      "text/plain": [
       "user_id                                             0       1       9       \\\n",
       "restaurant                                                                   \n",
       "#1 Mongolian BBQ - Best Stir Fried Noodles In B...     0.0     0.0     0.0   \n",
       "$5 Fresh Burger Stop                                   0.0     0.0     0.0   \n",
       "&pizza - UPenn                                         0.0     0.0     0.0   \n",
       "&pizza - Walnut                                        0.0     0.0     0.0   \n",
       "&pizza - Willow Grove                                  0.0     0.0     0.0   \n",
       "\n",
       "user_id                                             10      19      20      \\\n",
       "restaurant                                                                   \n",
       "#1 Mongolian BBQ - Best Stir Fried Noodles In B...     0.0     0.0     0.0   \n",
       "$5 Fresh Burger Stop                                   0.0     0.0     0.0   \n",
       "&pizza - UPenn                                         0.0     0.0     0.0   \n",
       "&pizza - Walnut                                        0.0     0.0     0.0   \n",
       "&pizza - Willow Grove                                  0.0     0.0     0.0   \n",
       "\n",
       "user_id                                             23      28      30      \\\n",
       "restaurant                                                                   \n",
       "#1 Mongolian BBQ - Best Stir Fried Noodles In B...     0.0     0.0     0.0   \n",
       "$5 Fresh Burger Stop                                   0.0     0.0     0.0   \n",
       "&pizza - UPenn                                         0.0     0.0     0.0   \n",
       "&pizza - Walnut                                        0.0     0.0     0.0   \n",
       "&pizza - Willow Grove                                  0.0     0.0     0.0   \n",
       "\n",
       "user_id                                             31      ...  610131  \\\n",
       "restaurant                                                  ...           \n",
       "#1 Mongolian BBQ - Best Stir Fried Noodles In B...     0.0  ...     0.0   \n",
       "$5 Fresh Burger Stop                                   0.0  ...     0.0   \n",
       "&pizza - UPenn                                         0.0  ...     0.0   \n",
       "&pizza - Walnut                                        0.0  ...     0.0   \n",
       "&pizza - Willow Grove                                  0.0  ...     0.0   \n",
       "\n",
       "user_id                                             610611  612499  612967  \\\n",
       "restaurant                                                                   \n",
       "#1 Mongolian BBQ - Best Stir Fried Noodles In B...     0.0     0.0     0.0   \n",
       "$5 Fresh Burger Stop                                   0.0     0.0     0.0   \n",
       "&pizza - UPenn                                         0.0     0.0     0.0   \n",
       "&pizza - Walnut                                        0.0     0.0     0.0   \n",
       "&pizza - Willow Grove                                  0.0     0.0     0.0   \n",
       "\n",
       "user_id                                             622485  636698  636724  \\\n",
       "restaurant                                                                   \n",
       "#1 Mongolian BBQ - Best Stir Fried Noodles In B...     0.0     0.0     0.0   \n",
       "$5 Fresh Burger Stop                                   0.0     0.0     0.0   \n",
       "&pizza - UPenn                                         0.0     0.0     0.0   \n",
       "&pizza - Walnut                                        0.0     0.0     0.0   \n",
       "&pizza - Willow Grove                                  0.0     0.0     0.0   \n",
       "\n",
       "user_id                                             641427  659509  934670  \n",
       "restaurant                                                                  \n",
       "#1 Mongolian BBQ - Best Stir Fried Noodles In B...     0.0     0.0     0.0  \n",
       "$5 Fresh Burger Stop                                   0.0     0.0     0.0  \n",
       "&pizza - UPenn                                         0.0     0.0     0.0  \n",
       "&pizza - Walnut                                        0.0     0.0     0.0  \n",
       "&pizza - Willow Grove                                  0.0     0.0     0.0  \n",
       "\n",
       "[5 rows x 24566 columns]"
      ]
     },
     "execution_count": 18,
     "metadata": {},
     "output_type": "execute_result"
    }
   ],
   "source": [
    "review_pivot = review_clean_20up.pivot_table(index=\"restaurant\",columns=\"user_id\",values=\"stars\").fillna(0)\n",
    "review_pivot.head(5)"
   ]
  },
  {
   "cell_type": "markdown",
   "id": "096e88de-7ce7-4d37-8e59-93b92a78f6f0",
   "metadata": {},
   "source": [
    "The pivot table looks nice, now we can move on to EDA."
   ]
  },
  {
   "cell_type": "markdown",
   "id": "04c066bd-ea0c-4574-b384-1e1f5198de23",
   "metadata": {},
   "source": [
    "## EDA"
   ]
  },
  {
   "cell_type": "markdown",
   "id": "d4c1696d-3b68-429e-9be4-4a19c87eec0b",
   "metadata": {},
   "source": [
    "Here we want to look at the distributtion and relation of `user_id`, `restaurant` and `stars`."
   ]
  },
  {
   "cell_type": "markdown",
   "id": "6c16f026-615d-4061-89f8-570bcdcf0da8",
   "metadata": {},
   "source": [
    "#### Distribution of `stars` (Ratings)"
   ]
  },
  {
   "cell_type": "code",
   "execution_count": 19,
   "id": "f2163126-60bd-4cf7-9da7-d30906f91b44",
   "metadata": {},
   "outputs": [
    {
     "data": {
      "image/png": "[encoded data removed]",
      "text/plain": [
       "<Figure size 640x480 with 1 Axes>"
      ]
     },
     "metadata": {},
     "output_type": "display_data"
    }
   ],
   "source": [
    "star_distribution = review_clean_20up['stars'].value_counts().sort_index()\n",
    "\n",
    "# Create the bar plot\n",
    "plt.bar(star_distribution.index, star_distribution.values)\n",
    "plt.title('Distribution of Stars')\n",
    "plt.xlabel('Stars')\n",
    "plt.ylabel('Frequency')\n",
    "plt.xticks(star_distribution.index)  # Ensure proper tick marks\n",
    "plt.tight_layout()\n",
    "\n",
    "# Show the plot\n",
    "plt.show()"
   ]
  },
  {
   "cell_type": "markdown",
   "id": "fc724c23-5a65-4366-bf61-f224b9937a92",
   "metadata": {},
   "source": [
    "We can see that the number of ratings gets higher for higher ratings, which is highly imbalanced. An option of improvement is to standardize the ratings for each user, which will be the next step if the model's performance is not ideal."
   ]
  },
  {
   "cell_type": "markdown",
   "id": "a4aafaa3-b477-4ad6-a091-7946649d67c3",
   "metadata": {},
   "source": [
    "#### Relation Between Review per User and User Rating Average"
   ]
  },
  {
   "cell_type": "markdown",
   "id": "6e7bf4ad-3e44-4a3c-8e6b-b23e119f40cf",
   "metadata": {},
   "source": [
    "Lets look at the relation between user rating frequency and the mean review of each users."
   ]
  },
  {
   "cell_type": "code",
   "execution_count": 20,
   "id": "5175771d-ac13-407b-bc8c-3425c10016be",
   "metadata": {},
   "outputs": [
    {
     "data": {
      "image/png": "[encoded data removed]",
      "text/plain": [
       "<Figure size 640x480 with 1 Axes>"
      ]
     },
     "metadata": {},
     "output_type": "display_data"
    }
   ],
   "source": [
    "user_rating_trend = review_clean_20up.groupby('user_id').agg(\n",
    "    reviews_per_user=('stars', 'count'),\n",
    "    average_rating=('stars', 'mean')\n",
    ").reset_index()\n",
    "user_rating_trend['reviews_per_user'] = np.log(user_rating_trend['reviews_per_user'])\n",
    "\n",
    "# Create the scatter plot\n",
    "sns.regplot(\n",
    "    data=user_rating_trend,\n",
    "    x='reviews_per_user',\n",
    "    y='average_rating',\n",
    "    scatter_kws={'alpha': 0.2},  # Adjust transparency of scatter points\n",
    "    line_kws={'color': 'black'},  # Regression line color\n",
    "    ci=None  # Removes confidence interval around the regression line\n",
    ")\n",
    "plt.title(\"Relations between User Rating Frequency and User's Average Rating\")\n",
    "plt.xlabel('log(Number of Reviews Per User)')\n",
    "plt.ylabel('Average Rating')\n",
    "plt.grid(axis='both', linestyle='--', alpha=0.7)\n",
    "plt.tight_layout()"
   ]
  },
  {
   "cell_type": "markdown",
   "id": "eb597759-33d0-46d2-b3f2-2e85d428c925",
   "metadata": {},
   "source": [
    "Here we assess the trend between user rating frequency and the average rating these users providing, hoping to uncover any relation of these two variables. However, we can see that the effect of a user's total review amount has little effect on the average rating the user gives, with the slope of the fitted line being very close to 0."
   ]
  },
  {
   "cell_type": "markdown",
   "id": "707b8984-05d8-4ce3-b8be-1be1574484a7",
   "metadata": {},
   "source": [
    "#### Top Rated Popular Restaurants"
   ]
  },
  {
   "cell_type": "markdown",
   "id": "8d7f60eb-3161-49d4-acd3-e111067792a1",
   "metadata": {},
   "source": [
    "Let's look at some of the top rated restaurants. Since restaurants with fewer ratings (unpopular) might have only a couple high ratings and appear on the list, we want to also add a condition that the restaurants have to recieve more than 500 reviews to be considered. In other words, we're showcasing the top rated popular restaurants."
   ]
  },
  {
   "cell_type": "code",
   "execution_count": 22,
   "id": "8f183624-2f6f-4289-be3d-7d8dc5972ae0",
   "metadata": {},
   "outputs": [],
   "source": [
    "# Filter only restaurants with more than 1000 ratings\n",
    "review_popular_restaurants = review_clean_20up.groupby('restaurant').filter(\n",
    "    lambda x: x['stars'].count() > 500\n",
    ")\n",
    "\n",
    "# Find Highest and Lowest rated restaurants\n",
    "mean_rating = review_popular_restaurants.groupby('restaurant')[['stars']].mean()\n",
    "# Highest rated movies\n",
    "highest_rated = mean_rating.sort_values(by='stars', ascending=False).head(10)"
   ]
  },
  {
   "cell_type": "code",
   "execution_count": 26,
   "id": "3832b0f2-8785-4321-a0a2-57987ecd9422",
   "metadata": {},
   "outputs": [
    {
     "name": "stdout",
     "output_type": "stream",
     "text": [
      "Highest rated restaurants:\n",
      "                                stars\n",
      "restaurant                          \n",
      "Beiler's Bakery             4.632207\n",
      "Reading Terminal Market     4.587660\n",
      "Nothing Bundt Cakes         4.581169\n",
      "Jeni's Splendid Ice Creams  4.576149\n",
      "Zahav                       4.540059\n",
      "Lolis Mexican Cravings      4.466270\n",
      "Commander's Palace          4.449206\n",
      "Total Wine & More           4.417010\n",
      "Talula's Garden             4.413738\n",
      "Pappy's Smokehouse          4.411854 \n",
      "\n",
      "\n",
      "Lowest rated restaurants:\n",
      "                               stars\n",
      "restaurant                         \n",
      "KFC                        2.293478\n",
      "McDonald's                 2.384729\n",
      "Geno's Steaks              2.400697\n",
      "Burger King                2.463206\n",
      "Walmart Supercenter        2.517839\n",
      "Wendy's                    2.564205\n",
      "Popeyes Louisiana Kitchen  2.658696\n",
      "Taco Bell                  2.672330\n",
      "Jack in the Box            2.673704\n",
      "Pizza Hut                  2.678420\n"
     ]
    }
   ],
   "source": [
    "# Filter only restaurants with more than 1000 ratings\n",
    "review_popular_restaurants = review_clean_20up.groupby('restaurant').filter(\n",
    "    lambda x: x['stars'].count() > 500\n",
    ")\n",
    "\n",
    "# Find Highest and Lowest rated restaurants\n",
    "mean_rating = review_popular_restaurants.groupby('restaurant')[['stars']].mean()\n",
    "# Highest rated movies\n",
    "highest_rated = mean_rating.sort_values(by='stars', ascending=False).head(10)\n",
    "print('Highest rated restaurants:\\n', highest_rated, \"\\n\\n\")\n",
    "# Lowest rated movies\n",
    "lowest_rated = mean_rating.sort_values(by='stars', ascending=True).head(10)\n",
    "print('Lowest rated restaurants:\\n', lowest_rated)\n"
   ]
  },
  {
   "cell_type": "markdown",
   "id": "eda9dd17-57da-4bc8-a043-434efa3fa397",
   "metadata": {},
   "source": [
    "It is interesting to see that highest rated restaurants seemed to be diverse in cuisine and category, but the lowest rated restaurants seemed to all be fast food restaurants.\n",
    "\n",
    "In the next section, we will start to fit our data to the model."
   ]
  },
  {
   "cell_type": "markdown",
   "id": "d35bfd6d-9595-4048-b7d2-b286989debca",
   "metadata": {},
   "source": [
    "## Model Fitting and Results"
   ]
  },
  {
   "cell_type": "markdown",
   "id": "b41dcbcd-8e45-4a56-9358-80d178c1aeb9",
   "metadata": {},
   "source": [
    "### Collaborative Filtering (given an item)"
   ]
  },
  {
   "cell_type": "markdown",
   "id": "c813d990-21fe-43a0-9c78-e0ff49950d52",
   "metadata": {},
   "source": [
    "The function of this model is for users to enter a restaurant they like, and the model will return 10 similar restaurants based on all user's rating pattern.\n",
    "\n",
    "In terms of algorithms of deciding which restaurants are \"similar\", we will use cosine similarity.\n",
    "\n",
    "In order to handle the matrix efficiently, we will utilize the `scipy.sparse` module given that our user-item matrix is extremely sparse. With this module we will handle the matrix in compressed sparse row (CSR) format."
   ]
  },
  {
   "cell_type": "code",
   "execution_count": 29,
   "id": "9466099a-da83-4bcc-bf58-f19382117f76",
   "metadata": {},
   "outputs": [],
   "source": [
    "from scipy.sparse import csr_matrix\n",
    "from sklearn.neighbors import NearestNeighbors\n",
    "import random\n",
    "\n",
    "data_matrix = csr_matrix(review_pivot.values)"
   ]
  },
  {
   "cell_type": "markdown",
   "id": "6eb0a3d4-ce64-41bb-b4d5-041242603a22",
   "metadata": {},
   "source": [
    "Now we want to fit the matrix into a KNN model with cosine similarity as the metric."
   ]
  },
  {
   "cell_type": "code",
   "execution_count": 32,
   "id": "ab02f1b6-5b5d-4e8d-a694-c659d0af628f",
   "metadata": {},
   "outputs": [
    {
     "data": {
      "text/html": [
       "<style>#sk-container-id-1 {\n",
       "  /* Definition of color scheme common for light and dark mode */\n",
       "  --sklearn-color-text: black;\n",
       "  --sklearn-color-line: gray;\n",
       "  /* Definition of color scheme for unfitted estimators */\n",
       "  --sklearn-color-unfitted-level-0: #fff5e6;\n",
       "  --sklearn-color-unfitted-level-1: #f6e4d2;\n",
       "  --sklearn-color-unfitted-level-2: #ffe0b3;\n",
       "  --sklearn-color-unfitted-level-3: chocolate;\n",
       "  /* Definition of color scheme for fitted estimators */\n",
       "  --sklearn-color-fitted-level-0: #f0f8ff;\n",
       "  --sklearn-color-fitted-level-1: #d4ebff;\n",
       "  --sklearn-color-fitted-level-2: #b3dbfd;\n",
       "  --sklearn-color-fitted-level-3: cornflowerblue;\n",
       "\n",
       "  /* Specific color for light theme */\n",
       "  --sklearn-color-text-on-default-background: var(--sg-text-color, var(--theme-code-foreground, var(--jp-content-font-color1, black)));\n",
       "  --sklearn-color-background: var(--sg-background-color, var(--theme-background, var(--jp-layout-color0, white)));\n",
       "  --sklearn-color-border-box: var(--sg-text-color, var(--theme-code-foreground, var(--jp-content-font-color1, black)));\n",
       "  --sklearn-color-icon: #696969;\n",
       "\n",
       "  @media (prefers-color-scheme: dark) {\n",
       "    /* Redefinition of color scheme for dark theme */\n",
       "    --sklearn-color-text-on-default-background: var(--sg-text-color, var(--theme-code-foreground, var(--jp-content-font-color1, white)));\n",
       "    --sklearn-color-background: var(--sg-background-color, var(--theme-background, var(--jp-layout-color0, #111)));\n",
       "    --sklearn-color-border-box: var(--sg-text-color, var(--theme-code-foreground, var(--jp-content-font-color1, white)));\n",
       "    --sklearn-color-icon: #878787;\n",
       "  }\n",
       "}\n",
       "\n",
       "#sk-container-id-1 {\n",
       "  color: var(--sklearn-color-text);\n",
       "}\n",
       "\n",
       "#sk-container-id-1 pre {\n",
       "  padding: 0;\n",
       "}\n",
       "\n",
       "#sk-container-id-1 input.sk-hidden--visually {\n",
       "  border: 0;\n",
       "  clip: rect(1px 1px 1px 1px);\n",
       "  clip: rect(1px, 1px, 1px, 1px);\n",
       "  height: 1px;\n",
       "  margin: -1px;\n",
       "  overflow: hidden;\n",
       "  padding: 0;\n",
       "  position: absolute;\n",
       "  width: 1px;\n",
       "}\n",
       "\n",
       "#sk-container-id-1 div.sk-dashed-wrapped {\n",
       "  border: 1px dashed var(--sklearn-color-line);\n",
       "  margin: 0 0.4em 0.5em 0.4em;\n",
       "  box-sizing: border-box;\n",
       "  padding-bottom: 0.4em;\n",
       "  background-color: var(--sklearn-color-background);\n",
       "}\n",
       "\n",
       "#sk-container-id-1 div.sk-container {\n",
       "  /* jupyter's `normalize.less` sets `[hidden] { display: none; }`\n",
       "     but bootstrap.min.css set `[hidden] { display: none !important; }`\n",
       "     so we also need the `!important` here to be able to override the\n",
       "     default hidden behavior on the sphinx rendered scikit-learn.org.\n",
       "     See: https://github.com/scikit-learn/scikit-learn/issues/21755 */\n",
       "  display: inline-block !important;\n",
       "  position: relative;\n",
       "}\n",
       "\n",
       "#sk-container-id-1 div.sk-text-repr-fallback {\n",
       "  display: none;\n",
       "}\n",
       "\n",
       "div.sk-parallel-item,\n",
       "div.sk-serial,\n",
       "div.sk-item {\n",
       "  /* draw centered vertical line to link estimators */\n",
       "  background-image: linear-gradient(var(--sklearn-color-text-on-default-background), var(--sklearn-color-text-on-default-background));\n",
       "  background-size: 2px 100%;\n",
       "  background-repeat: no-repeat;\n",
       "  background-position: center center;\n",
       "}\n",
       "\n",
       "/* Parallel-specific style estimator block */\n",
       "\n",
       "#sk-container-id-1 div.sk-parallel-item::after {\n",
       "  content: \"\";\n",
       "  width: 100%;\n",
       "  border-bottom: 2px solid var(--sklearn-color-text-on-default-background);\n",
       "  flex-grow: 1;\n",
       "}\n",
       "\n",
       "#sk-container-id-1 div.sk-parallel {\n",
       "  display: flex;\n",
       "  align-items: stretch;\n",
       "  justify-content: center;\n",
       "  background-color: var(--sklearn-color-background);\n",
       "  position: relative;\n",
       "}\n",
       "\n",
       "#sk-container-id-1 div.sk-parallel-item {\n",
       "  display: flex;\n",
       "  flex-direction: column;\n",
       "}\n",
       "\n",
       "#sk-container-id-1 div.sk-parallel-item:first-child::after {\n",
       "  align-self: flex-end;\n",
       "  width: 50%;\n",
       "}\n",
       "\n",
       "#sk-container-id-1 div.sk-parallel-item:last-child::after {\n",
       "  align-self: flex-start;\n",
       "  width: 50%;\n",
       "}\n",
       "\n",
       "#sk-container-id-1 div.sk-parallel-item:only-child::after {\n",
       "  width: 0;\n",
       "}\n",
       "\n",
       "/* Serial-specific style estimator block */\n",
       "\n",
       "#sk-container-id-1 div.sk-serial {\n",
       "  display: flex;\n",
       "  flex-direction: column;\n",
       "  align-items: center;\n",
       "  background-color: var(--sklearn-color-background);\n",
       "  padding-right: 1em;\n",
       "  padding-left: 1em;\n",
       "}\n",
       "\n",
       "\n",
       "/* Toggleable style: style used for estimator/Pipeline/ColumnTransformer box that is\n",
       "clickable and can be expanded/collapsed.\n",
       "- Pipeline and ColumnTransformer use this feature and define the default style\n",
       "- Estimators will overwrite some part of the style using the `sk-estimator` class\n",
       "*/\n",
       "\n",
       "/* Pipeline and ColumnTransformer style (default) */\n",
       "\n",
       "#sk-container-id-1 div.sk-toggleable {\n",
       "  /* Default theme specific background. It is overwritten whether we have a\n",
       "  specific estimator or a Pipeline/ColumnTransformer */\n",
       "  background-color: var(--sklearn-color-background);\n",
       "}\n",
       "\n",
       "/* Toggleable label */\n",
       "#sk-container-id-1 label.sk-toggleable__label {\n",
       "  cursor: pointer;\n",
       "  display: block;\n",
       "  width: 100%;\n",
       "  margin-bottom: 0;\n",
       "  padding: 0.5em;\n",
       "  box-sizing: border-box;\n",
       "  text-align: center;\n",
       "}\n",
       "\n",
       "#sk-container-id-1 label.sk-toggleable__label-arrow:before {\n",
       "  /* Arrow on the left of the label */\n",
       "  content: \"▸\";\n",
       "  float: left;\n",
       "  margin-right: 0.25em;\n",
       "  color: var(--sklearn-color-icon);\n",
       "}\n",
       "\n",
       "#sk-container-id-1 label.sk-toggleable__label-arrow:hover:before {\n",
       "  color: var(--sklearn-color-text);\n",
       "}\n",
       "\n",
       "/* Toggleable content - dropdown */\n",
       "\n",
       "#sk-container-id-1 div.sk-toggleable__content {\n",
       "  max-height: 0;\n",
       "  max-width: 0;\n",
       "  overflow: hidden;\n",
       "  text-align: left;\n",
       "  /* unfitted */\n",
       "  background-color: var(--sklearn-color-unfitted-level-0);\n",
       "}\n",
       "\n",
       "#sk-container-id-1 div.sk-toggleable__content.fitted {\n",
       "  /* fitted */\n",
       "  background-color: var(--sklearn-color-fitted-level-0);\n",
       "}\n",
       "\n",
       "#sk-container-id-1 div.sk-toggleable__content pre {\n",
       "  margin: 0.2em;\n",
       "  border-radius: 0.25em;\n",
       "  color: var(--sklearn-color-text);\n",
       "  /* unfitted */\n",
       "  background-color: var(--sklearn-color-unfitted-level-0);\n",
       "}\n",
       "\n",
       "#sk-container-id-1 div.sk-toggleable__content.fitted pre {\n",
       "  /* unfitted */\n",
       "  background-color: var(--sklearn-color-fitted-level-0);\n",
       "}\n",
       "\n",
       "#sk-container-id-1 input.sk-toggleable__control:checked~div.sk-toggleable__content {\n",
       "  /* Expand drop-down */\n",
       "  max-height: 200px;\n",
       "  max-width: 100%;\n",
       "  overflow: auto;\n",
       "}\n",
       "\n",
       "#sk-container-id-1 input.sk-toggleable__control:checked~label.sk-toggleable__label-arrow:before {\n",
       "  content: \"▾\";\n",
       "}\n",
       "\n",
       "/* Pipeline/ColumnTransformer-specific style */\n",
       "\n",
       "#sk-container-id-1 div.sk-label input.sk-toggleable__control:checked~label.sk-toggleable__label {\n",
       "  color: var(--sklearn-color-text);\n",
       "  background-color: var(--sklearn-color-unfitted-level-2);\n",
       "}\n",
       "\n",
       "#sk-container-id-1 div.sk-label.fitted input.sk-toggleable__control:checked~label.sk-toggleable__label {\n",
       "  background-color: var(--sklearn-color-fitted-level-2);\n",
       "}\n",
       "\n",
       "/* Estimator-specific style */\n",
       "\n",
       "/* Colorize estimator box */\n",
       "#sk-container-id-1 div.sk-estimator input.sk-toggleable__control:checked~label.sk-toggleable__label {\n",
       "  /* unfitted */\n",
       "  background-color: var(--sklearn-color-unfitted-level-2);\n",
       "}\n",
       "\n",
       "#sk-container-id-1 div.sk-estimator.fitted input.sk-toggleable__control:checked~label.sk-toggleable__label {\n",
       "  /* fitted */\n",
       "  background-color: var(--sklearn-color-fitted-level-2);\n",
       "}\n",
       "\n",
       "#sk-container-id-1 div.sk-label label.sk-toggleable__label,\n",
       "#sk-container-id-1 div.sk-label label {\n",
       "  /* The background is the default theme color */\n",
       "  color: var(--sklearn-color-text-on-default-background);\n",
       "}\n",
       "\n",
       "/* On hover, darken the color of the background */\n",
       "#sk-container-id-1 div.sk-label:hover label.sk-toggleable__label {\n",
       "  color: var(--sklearn-color-text);\n",
       "  background-color: var(--sklearn-color-unfitted-level-2);\n",
       "}\n",
       "\n",
       "/* Label box, darken color on hover, fitted */\n",
       "#sk-container-id-1 div.sk-label.fitted:hover label.sk-toggleable__label.fitted {\n",
       "  color: var(--sklearn-color-text);\n",
       "  background-color: var(--sklearn-color-fitted-level-2);\n",
       "}\n",
       "\n",
       "/* Estimator label */\n",
       "\n",
       "#sk-container-id-1 div.sk-label label {\n",
       "  font-family: monospace;\n",
       "  font-weight: bold;\n",
       "  display: inline-block;\n",
       "  line-height: 1.2em;\n",
       "}\n",
       "\n",
       "#sk-container-id-1 div.sk-label-container {\n",
       "  text-align: center;\n",
       "}\n",
       "\n",
       "/* Estimator-specific */\n",
       "#sk-container-id-1 div.sk-estimator {\n",
       "  font-family: monospace;\n",
       "  border: 1px dotted var(--sklearn-color-border-box);\n",
       "  border-radius: 0.25em;\n",
       "  box-sizing: border-box;\n",
       "  margin-bottom: 0.5em;\n",
       "  /* unfitted */\n",
       "  background-color: var(--sklearn-color-unfitted-level-0);\n",
       "}\n",
       "\n",
       "#sk-container-id-1 div.sk-estimator.fitted {\n",
       "  /* fitted */\n",
       "  background-color: var(--sklearn-color-fitted-level-0);\n",
       "}\n",
       "\n",
       "/* on hover */\n",
       "#sk-container-id-1 div.sk-estimator:hover {\n",
       "  /* unfitted */\n",
       "  background-color: var(--sklearn-color-unfitted-level-2);\n",
       "}\n",
       "\n",
       "#sk-container-id-1 div.sk-estimator.fitted:hover {\n",
       "  /* fitted */\n",
       "  background-color: var(--sklearn-color-fitted-level-2);\n",
       "}\n",
       "\n",
       "/* Specification for estimator info (e.g. \"i\" and \"?\") */\n",
       "\n",
       "/* Common style for \"i\" and \"?\" */\n",
       "\n",
       ".sk-estimator-doc-link,\n",
       "a:link.sk-estimator-doc-link,\n",
       "a:visited.sk-estimator-doc-link {\n",
       "  float: right;\n",
       "  font-size: smaller;\n",
       "  line-height: 1em;\n",
       "  font-family: monospace;\n",
       "  background-color: var(--sklearn-color-background);\n",
       "  border-radius: 1em;\n",
       "  height: 1em;\n",
       "  width: 1em;\n",
       "  text-decoration: none !important;\n",
       "  margin-left: 1ex;\n",
       "  /* unfitted */\n",
       "  border: var(--sklearn-color-unfitted-level-1) 1pt solid;\n",
       "  color: var(--sklearn-color-unfitted-level-1);\n",
       "}\n",
       "\n",
       ".sk-estimator-doc-link.fitted,\n",
       "a:link.sk-estimator-doc-link.fitted,\n",
       "a:visited.sk-estimator-doc-link.fitted {\n",
       "  /* fitted */\n",
       "  border: var(--sklearn-color-fitted-level-1) 1pt solid;\n",
       "  color: var(--sklearn-color-fitted-level-1);\n",
       "}\n",
       "\n",
       "/* On hover */\n",
       "div.sk-estimator:hover .sk-estimator-doc-link:hover,\n",
       ".sk-estimator-doc-link:hover,\n",
       "div.sk-label-container:hover .sk-estimator-doc-link:hover,\n",
       ".sk-estimator-doc-link:hover {\n",
       "  /* unfitted */\n",
       "  background-color: var(--sklearn-color-unfitted-level-3);\n",
       "  color: var(--sklearn-color-background);\n",
       "  text-decoration: none;\n",
       "}\n",
       "\n",
       "div.sk-estimator.fitted:hover .sk-estimator-doc-link.fitted:hover,\n",
       ".sk-estimator-doc-link.fitted:hover,\n",
       "div.sk-label-container:hover .sk-estimator-doc-link.fitted:hover,\n",
       ".sk-estimator-doc-link.fitted:hover {\n",
       "  /* fitted */\n",
       "  background-color: var(--sklearn-color-fitted-level-3);\n",
       "  color: var(--sklearn-color-background);\n",
       "  text-decoration: none;\n",
       "}\n",
       "\n",
       "/* Span, style for the box shown on hovering the info icon */\n",
       ".sk-estimator-doc-link span {\n",
       "  display: none;\n",
       "  z-index: 9999;\n",
       "  position: relative;\n",
       "  font-weight: normal;\n",
       "  right: .2ex;\n",
       "  padding: .5ex;\n",
       "  margin: .5ex;\n",
       "  width: min-content;\n",
       "  min-width: 20ex;\n",
       "  max-width: 50ex;\n",
       "  color: var(--sklearn-color-text);\n",
       "  box-shadow: 2pt 2pt 4pt #999;\n",
       "  /* unfitted */\n",
       "  background: var(--sklearn-color-unfitted-level-0);\n",
       "  border: .5pt solid var(--sklearn-color-unfitted-level-3);\n",
       "}\n",
       "\n",
       ".sk-estimator-doc-link.fitted span {\n",
       "  /* fitted */\n",
       "  background: var(--sklearn-color-fitted-level-0);\n",
       "  border: var(--sklearn-color-fitted-level-3);\n",
       "}\n",
       "\n",
       ".sk-estimator-doc-link:hover span {\n",
       "  display: block;\n",
       "}\n",
       "\n",
       "/* \"?\"-specific style due to the `<a>` HTML tag */\n",
       "\n",
       "#sk-container-id-1 a.estimator_doc_link {\n",
       "  float: right;\n",
       "  font-size: 1rem;\n",
       "  line-height: 1em;\n",
       "  font-family: monospace;\n",
       "  background-color: var(--sklearn-color-background);\n",
       "  border-radius: 1rem;\n",
       "  height: 1rem;\n",
       "  width: 1rem;\n",
       "  text-decoration: none;\n",
       "  /* unfitted */\n",
       "  color: var(--sklearn-color-unfitted-level-1);\n",
       "  border: var(--sklearn-color-unfitted-level-1) 1pt solid;\n",
       "}\n",
       "\n",
       "#sk-container-id-1 a.estimator_doc_link.fitted {\n",
       "  /* fitted */\n",
       "  border: var(--sklearn-color-fitted-level-1) 1pt solid;\n",
       "  color: var(--sklearn-color-fitted-level-1);\n",
       "}\n",
       "\n",
       "/* On hover */\n",
       "#sk-container-id-1 a.estimator_doc_link:hover {\n",
       "  /* unfitted */\n",
       "  background-color: var(--sklearn-color-unfitted-level-3);\n",
       "  color: var(--sklearn-color-background);\n",
       "  text-decoration: none;\n",
       "}\n",
       "\n",
       "#sk-container-id-1 a.estimator_doc_link.fitted:hover {\n",
       "  /* fitted */\n",
       "  background-color: var(--sklearn-color-fitted-level-3);\n",
       "}\n",
       "</style><div id=\"sk-container-id-1\" class=\"sk-top-container\"><div class=\"sk-text-repr-fallback\"><pre>NearestNeighbors(algorithm=&#x27;brute&#x27;, metric=&#x27;cosine&#x27;)</pre><b>In a Jupyter environment, please rerun this cell to show the HTML representation or trust the notebook. <br />On GitHub, the HTML representation is unable to render, please try loading this page with nbviewer.org.</b></div><div class=\"sk-container\" hidden><div class=\"sk-item\"><div class=\"sk-estimator fitted sk-toggleable\"><input class=\"sk-toggleable__control sk-hidden--visually\" id=\"sk-estimator-id-1\" type=\"checkbox\" checked><label for=\"sk-estimator-id-1\" class=\"sk-toggleable__label fitted sk-toggleable__label-arrow fitted\">&nbsp;&nbsp;NearestNeighbors<a class=\"sk-estimator-doc-link fitted\" rel=\"noreferrer\" target=\"_blank\" href=\"https://scikit-learn.org/1.4/modules/generated/sklearn.neighbors.NearestNeighbors.html\">?<span>Documentation for NearestNeighbors</span></a><span class=\"sk-estimator-doc-link fitted\">i<span>Fitted</span></span></label><div class=\"sk-toggleable__content fitted\"><pre>NearestNeighbors(algorithm=&#x27;brute&#x27;, metric=&#x27;cosine&#x27;)</pre></div> </div></div></div></div>"
      ],
      "text/plain": [
       "NearestNeighbors(algorithm='brute', metric='cosine')"
      ]
     },
     "execution_count": 32,
     "metadata": {},
     "output_type": "execute_result"
    }
   ],
   "source": [
    "model_knn = NearestNeighbors(metric = \"cosine\", algorithm = \"brute\")\n",
    "model_knn.fit(data_matrix)"
   ]
  },
  {
   "cell_type": "markdown",
   "id": "7fc9781f-b8f7-4cf1-a4b8-e62dd4e3c4da",
   "metadata": {},
   "source": [
    "Now let's put the model in use and see how the data performs."
   ]
  },
  {
   "cell_type": "code",
   "execution_count": 37,
   "id": "c8aa4206-5326-4bb5-941d-16b25b2a4c69",
   "metadata": {},
   "outputs": [
    {
     "name": "stdout",
     "output_type": "stream",
     "text": [
      "We will find recommendations for restaurant ID number 18856, which is Ponticelli's Pizza Panini & Pasta.\n"
     ]
    }
   ],
   "source": [
    "# Randomly select a restaurant to recommend\n",
    "np.random.seed(1231)\n",
    "query_no = np.random.choice(review_pivot.shape[0]) \n",
    "print(f\"We will find recommendations for restaurant ID number {query_no}, which is {review_pivot.index[query_no]}.\")"
   ]
  },
  {
   "cell_type": "code",
   "execution_count": 38,
   "id": "3b1b0fc2-3c8c-4ed7-9e20-29e62220fac3",
   "metadata": {},
   "outputs": [
    {
     "name": "stdout",
     "output_type": "stream",
     "text": [
      "Recommendations for Ponticelli's Pizza Panini & Pasta diners :\n",
      "\n",
      "1: China Sun , with a distance of 0.4579\n",
      "2: A & S Pizza & Pasta , with a distance of 0.5820\n",
      "3: Zhou's House Chinese Restaurant , with a distance of 0.5878\n",
      "4: La Villa Pizza & Family Restaurant , with a distance of 0.5991\n",
      "5: Pasta On Time , with a distance of 0.6079\n",
      "6: Chef Chun Chinese Restaurant , with a distance of 0.6155\n",
      "7: D D Dairy Delite , with a distance of 0.6408\n",
      "8: Joe Santucci's Square Pizza , with a distance of 0.6533\n",
      "9: Yoshimoto Japanese Steakhouse , with a distance of 0.6598\n",
      "10: Johnlucas Pizza Pasta And Grill , with a distance of 0.6769\n"
     ]
    }
   ],
   "source": [
    "# Recommend restaurants\n",
    "distances, indices = model_knn.kneighbors(review_pivot.iloc[query_no,:].values.reshape(1, -1), n_neighbors = 11)\n",
    "\n",
    "no = []\n",
    "name = []\n",
    "distance = []\n",
    "rating = []\n",
    "\n",
    "for i in range(0, len(distances.flatten())):\n",
    "    if i == 0:\n",
    "        print(f\"Recommendations for {review_pivot.index[query_no]} diners :\\n\")\n",
    "    else:\n",
    "        print(f\"{i}: {review_pivot.index[indices.flatten()[i]]} , with a distance of {distances.flatten()[i]:.4f}\")        \n",
    "        no.append(i)\n",
    "        name.append(review_pivot.index[indices.flatten()[i]])\n",
    "        distance.append(distances.flatten()[i])\n",
    "        rating.append(np.mean(review_clean[review_clean[\"restaurant\"]==review_pivot.index[indices.flatten()[i]]][\"stars\"].values))"
   ]
  },
  {
   "cell_type": "code",
   "execution_count": 39,
   "id": "3a75876d-3056-49df-aaf5-8823cf8dc974",
   "metadata": {},
   "outputs": [
    {
     "data": {
      "text/html": [
       "<div>\n",
       "<style scoped>\n",
       "    .dataframe tbody tr th:only-of-type {\n",
       "        vertical-align: middle;\n",
       "    }\n",
       "\n",
       "    .dataframe tbody tr th {\n",
       "        vertical-align: top;\n",
       "    }\n",
       "\n",
       "    .dataframe thead th {\n",
       "        text-align: right;\n",
       "    }\n",
       "</style>\n",
       "<table border=\"1\" class=\"dataframe\">\n",
       "  <thead>\n",
       "    <tr style=\"text-align: right;\">\n",
       "      <th></th>\n",
       "      <th>Restaurant Name</th>\n",
       "      <th>Rating</th>\n",
       "    </tr>\n",
       "    <tr>\n",
       "      <th>No</th>\n",
       "      <th></th>\n",
       "      <th></th>\n",
       "    </tr>\n",
       "  </thead>\n",
       "  <tbody>\n",
       "    <tr>\n",
       "      <th>1</th>\n",
       "      <td>China Sun</td>\n",
       "      <td>2.80</td>\n",
       "    </tr>\n",
       "    <tr>\n",
       "      <th>2</th>\n",
       "      <td>A &amp; S Pizza &amp; Pasta</td>\n",
       "      <td>4.48</td>\n",
       "    </tr>\n",
       "    <tr>\n",
       "      <th>3</th>\n",
       "      <td>Zhou's House Chinese Restaurant</td>\n",
       "      <td>3.24</td>\n",
       "    </tr>\n",
       "    <tr>\n",
       "      <th>4</th>\n",
       "      <td>La Villa Pizza &amp; Family Restaurant</td>\n",
       "      <td>4.19</td>\n",
       "    </tr>\n",
       "    <tr>\n",
       "      <th>5</th>\n",
       "      <td>Pasta On Time</td>\n",
       "      <td>3.68</td>\n",
       "    </tr>\n",
       "    <tr>\n",
       "      <th>6</th>\n",
       "      <td>Chef Chun Chinese Restaurant</td>\n",
       "      <td>3.68</td>\n",
       "    </tr>\n",
       "    <tr>\n",
       "      <th>7</th>\n",
       "      <td>D D Dairy Delite</td>\n",
       "      <td>4.64</td>\n",
       "    </tr>\n",
       "    <tr>\n",
       "      <th>8</th>\n",
       "      <td>Joe Santucci's Square Pizza</td>\n",
       "      <td>4.00</td>\n",
       "    </tr>\n",
       "    <tr>\n",
       "      <th>9</th>\n",
       "      <td>Yoshimoto Japanese Steakhouse</td>\n",
       "      <td>3.61</td>\n",
       "    </tr>\n",
       "    <tr>\n",
       "      <th>10</th>\n",
       "      <td>Johnlucas Pizza Pasta And Grill</td>\n",
       "      <td>3.57</td>\n",
       "    </tr>\n",
       "  </tbody>\n",
       "</table>\n",
       "</div>"
      ],
      "text/plain": [
       "                       Restaurant Name  Rating\n",
       "No                                            \n",
       "1                            China Sun    2.80\n",
       "2                  A & S Pizza & Pasta    4.48\n",
       "3      Zhou's House Chinese Restaurant    3.24\n",
       "4   La Villa Pizza & Family Restaurant    4.19\n",
       "5                        Pasta On Time    3.68\n",
       "6         Chef Chun Chinese Restaurant    3.68\n",
       "7                     D D Dairy Delite    4.64\n",
       "8          Joe Santucci's Square Pizza    4.00\n",
       "9        Yoshimoto Japanese Steakhouse    3.61\n",
       "10     Johnlucas Pizza Pasta And Grill    3.57"
      ]
     },
     "execution_count": 39,
     "metadata": {},
     "output_type": "execute_result"
    }
   ],
   "source": [
    "dic = {\"No\" : no, \"Restaurant Name\" : name, \"Rating\" : np.round(rating, 2)}\n",
    "recommendation = pd.DataFrame(data = dic)\n",
    "recommendation.set_index(\"No\", inplace = True)\n",
    "recommendation"
   ]
  },
  {
   "cell_type": "markdown",
   "id": "055d1ae6-28e6-4444-ad65-cd8246c9e049",
   "metadata": {},
   "source": [
    "Now, let's try with some restaurant in Isla Vista, where we're located. One of the most popular restaurant in IV is Freebirds, let's locate the index of Freebirds and then see the recommendations for Freebirds lovers."
   ]
  },
  {
   "cell_type": "code",
   "execution_count": 40,
   "id": "67c7aabf-e285-42aa-b086-54b89241a27f",
   "metadata": {},
   "outputs": [
    {
     "name": "stdout",
     "output_type": "stream",
     "text": [
      "Recommendations for Freebirds diners :\n",
      "\n",
      "1: Woodstock's Pizza Isla Vista , with a distance of 0.5927\n",
      "2: Blenders In the Grass , with a distance of 0.6767\n",
      "3: Cajun Kitchen Cafe , with a distance of 0.7018\n",
      "4: Zodo's Bowlero Bowling & Beyond , with a distance of 0.7097\n",
      "5: Bagel Cafe , with a distance of 0.7206\n",
      "6: Kyle's Kitchen , with a distance of 0.7259\n",
      "7: Los Agaves , with a distance of 0.7303\n",
      "8: Lilly's Tacos , with a distance of 0.7373\n",
      "9: Super Cucas , with a distance of 0.7462\n",
      "10: Backyard Bowls , with a distance of 0.7501\n"
     ]
    }
   ],
   "source": [
    "# Find the row number of freebirds\n",
    "freebirds_row = review_pivot.index.get_loc(\"Freebirds\")\n",
    "\n",
    "# Recommend restaurants like Freebirds\n",
    "distances, indices = model_knn.kneighbors(review_pivot.iloc[freebirds_row,:].values.reshape(1, -1), n_neighbors = 11)\n",
    "\n",
    "no = []\n",
    "name = []\n",
    "distance = []\n",
    "rating = []\n",
    "\n",
    "for i in range(0, len(distances.flatten())):\n",
    "    if i == 0:\n",
    "        print(f\"Recommendations for {review_pivot.index[freebirds_row]} diners :\\n\")\n",
    "    else:\n",
    "        print(f\"{i}: {review_pivot.index[indices.flatten()[i]]} , with a distance of {distances.flatten()[i]:.4f}\")        \n",
    "        no.append(i)\n",
    "        name.append(review_pivot.index[indices.flatten()[i]])\n",
    "        distance.append(distances.flatten()[i])\n",
    "        rating.append(np.mean(review_clean[review_clean[\"restaurant\"]==review_pivot.index[indices.flatten()[i]]][\"stars\"].values))"
   ]
  },
  {
   "cell_type": "markdown",
   "id": "c17672a4-f03b-42cf-919a-f17cd38b1433",
   "metadata": {},
   "source": [
    "Additionally, we look at the average rating of these recommendations."
   ]
  },
  {
   "cell_type": "code",
   "execution_count": 45,
   "id": "31ec24ca-ed0f-454a-9274-1199ca0dea38",
   "metadata": {},
   "outputs": [
    {
     "data": {
      "text/html": [
       "<div>\n",
       "<style scoped>\n",
       "    .dataframe tbody tr th:only-of-type {\n",
       "        vertical-align: middle;\n",
       "    }\n",
       "\n",
       "    .dataframe tbody tr th {\n",
       "        vertical-align: top;\n",
       "    }\n",
       "\n",
       "    .dataframe thead th {\n",
       "        text-align: right;\n",
       "    }\n",
       "</style>\n",
       "<table border=\"1\" class=\"dataframe\">\n",
       "  <thead>\n",
       "    <tr style=\"text-align: right;\">\n",
       "      <th></th>\n",
       "      <th>Restaurant Name</th>\n",
       "      <th>Rating</th>\n",
       "    </tr>\n",
       "    <tr>\n",
       "      <th>No</th>\n",
       "      <th></th>\n",
       "      <th></th>\n",
       "    </tr>\n",
       "  </thead>\n",
       "  <tbody>\n",
       "    <tr>\n",
       "      <th>1</th>\n",
       "      <td>Woodstock's Pizza Isla Vista</td>\n",
       "      <td>4.02</td>\n",
       "    </tr>\n",
       "    <tr>\n",
       "      <th>2</th>\n",
       "      <td>Blenders In the Grass</td>\n",
       "      <td>4.09</td>\n",
       "    </tr>\n",
       "    <tr>\n",
       "      <th>3</th>\n",
       "      <td>Cajun Kitchen Cafe</td>\n",
       "      <td>4.04</td>\n",
       "    </tr>\n",
       "    <tr>\n",
       "      <th>4</th>\n",
       "      <td>Zodo's Bowlero Bowling &amp; Beyond</td>\n",
       "      <td>3.67</td>\n",
       "    </tr>\n",
       "    <tr>\n",
       "      <th>5</th>\n",
       "      <td>Bagel Cafe</td>\n",
       "      <td>3.75</td>\n",
       "    </tr>\n",
       "    <tr>\n",
       "      <th>6</th>\n",
       "      <td>Kyle's Kitchen</td>\n",
       "      <td>3.99</td>\n",
       "    </tr>\n",
       "    <tr>\n",
       "      <th>7</th>\n",
       "      <td>Los Agaves</td>\n",
       "      <td>4.40</td>\n",
       "    </tr>\n",
       "    <tr>\n",
       "      <th>8</th>\n",
       "      <td>Lilly's Tacos</td>\n",
       "      <td>4.43</td>\n",
       "    </tr>\n",
       "    <tr>\n",
       "      <th>9</th>\n",
       "      <td>Super Cucas</td>\n",
       "      <td>3.65</td>\n",
       "    </tr>\n",
       "    <tr>\n",
       "      <th>10</th>\n",
       "      <td>Backyard Bowls</td>\n",
       "      <td>4.22</td>\n",
       "    </tr>\n",
       "  </tbody>\n",
       "</table>\n",
       "</div>"
      ],
      "text/plain": [
       "                    Restaurant Name  Rating\n",
       "No                                         \n",
       "1      Woodstock's Pizza Isla Vista    4.02\n",
       "2             Blenders In the Grass    4.09\n",
       "3                Cajun Kitchen Cafe    4.04\n",
       "4   Zodo's Bowlero Bowling & Beyond    3.67\n",
       "5                        Bagel Cafe    3.75\n",
       "6                    Kyle's Kitchen    3.99\n",
       "7                        Los Agaves    4.40\n",
       "8                     Lilly's Tacos    4.43\n",
       "9                       Super Cucas    3.65\n",
       "10                   Backyard Bowls    4.22"
      ]
     },
     "execution_count": 45,
     "metadata": {},
     "output_type": "execute_result"
    }
   ],
   "source": [
    "dic = {\"No\" : no, \"Restaurant Name\" : name, \"Rating\" : np.round(rating, 2)}\n",
    "recommendation = pd.DataFrame(data = dic)\n",
    "recommendation.set_index(\"No\", inplace = True)\n",
    "recommendation"
   ]
  },
  {
   "cell_type": "markdown",
   "id": "3ad1cde8-f700-4325-87ba-f7e6ae6a8b4a",
   "metadata": {},
   "source": [
    "### Collborative FIltering (given a user)"
   ]
  },
  {
   "cell_type": "markdown",
   "id": "b6060b18-bec7-49c5-84ed-9c81d7801772",
   "metadata": {},
   "source": [
    "The previous model takes in value of a restaurant, and then return a list of restaurants similar to the input as recommendations. Let's call this recommendation given an item. \n",
    "\n",
    "Alternatively, we want to create a model that recommends given a user, which takes a certain user ID as input, and then returns a list of restaurants similar to the highest rated restaurants of this user, which the user should also like.\n",
    "\n",
    "Notice this model is built on the previous model, only with a few extra steps. Also note that we want to avoid recommending the user reataurants which they have been to already."
   ]
  },
  {
   "cell_type": "code",
   "execution_count": 47,
   "id": "fcc195b6-eb86-4aea-b9c8-a729fd5dbcd9",
   "metadata": {},
   "outputs": [
    {
     "name": "stdout",
     "output_type": "stream",
     "text": [
      "We will find recommendations for user 172240.\n"
     ]
    }
   ],
   "source": [
    "# Randomly selecet a user to provide recommendations to.\n",
    "np.random.seed(1231)\n",
    "user_no = np.random.choice(review_pivot.shape[1]) \n",
    "user_id = review_pivot.columns[user_no]\n",
    "print(f\"We will find recommendations for user {user_id}.\")"
   ]
  },
  {
   "cell_type": "code",
   "execution_count": 48,
   "id": "eccbad43-228f-4c78-9435-607583f78978",
   "metadata": {},
   "outputs": [],
   "source": [
    "# Identify the selected user's favorate restaurants\n",
    "user_ratings = review_pivot[user_id] # Obtain the user's rating to all restaurants\n",
    "max_rating = user_ratings.max() # Identify the user's max rating\n",
    "favorite_restaurants = user_ratings[user_ratings == max_rating].index.tolist() # Create a list of the user's favorite restaurants"
   ]
  },
  {
   "cell_type": "code",
   "execution_count": 49,
   "id": "a2092a50-460c-4759-9f7c-8a0eea24bdef",
   "metadata": {},
   "outputs": [],
   "source": [
    "# Create a list of restaurant this user has rated, this is to prevent recommending the user restaurants he's been to\n",
    "visited_restaurants = user_ratings[user_ratings != 0].index.tolist()"
   ]
  },
  {
   "cell_type": "code",
   "execution_count": 50,
   "id": "31a06975-91eb-43ef-8730-bcea74b5404e",
   "metadata": {},
   "outputs": [],
   "source": [
    "# Recommend 10 restaurant for each of the user's favorite restaurants and combine into a large list of recommendations\n",
    "\n",
    "# Generate and store the reccomendation into lists\n",
    "no = []\n",
    "name = []\n",
    "distance = []\n",
    "rating = []\n",
    "\n",
    "for i, restaurant in enumerate(favorite_restaurants):\n",
    "    # Get restaurant index\n",
    "    restaurant_row = review_pivot.index.get_loc(restaurant)\n",
    "    \n",
    "    # Recommend for this favorite restaurant\n",
    "    distances, indices = model_knn.kneighbors(review_pivot.iloc[restaurant_row,:].values.reshape(1, -1), n_neighbors = 11)\n",
    "    \n",
    "    for i in range(0, len(distances.flatten())):     \n",
    "        no.append(i)\n",
    "        name.append(review_pivot.index[indices.flatten()[i]])\n",
    "        distance.append(distances.flatten()[i])\n",
    "        rating.append(np.mean(review_clean[review_clean[\"restaurant\"]==review_pivot.index[indices.flatten()[i]]][\"stars\"].values))\n",
    "\n",
    "# Combine the list into a dataframe and filter out rows with distance < 0.0001 (same restaurant)\n",
    "# Also filter out restaurant that this user has rated (user already tried it)\n",
    "all_recs = pd.DataFrame({\n",
    "    \"No\": no,\n",
    "    \"Name\": name,\n",
    "    \"Distance\": distance,\n",
    "    \"Rating\": rating\n",
    "})\n",
    "all_recs = all_recs[(all_recs[\"Distance\"] >= 0.0001) & (~all_recs[\"Name\"].isin(visited_restaurants))]"
   ]
  },
  {
   "cell_type": "code",
   "execution_count": 56,
   "id": "0dfa5f33-5481-45ba-886c-ddd496cacf25",
   "metadata": {},
   "outputs": [
    {
     "name": "stdout",
     "output_type": "stream",
     "text": [
      "Recommendations for user 172240:\n",
      "\n",
      "1: Di Bruno Bros. Catering & Events, with a distance of 0.5797\n",
      "2: Al-Amana Grocery Store, with a distance of 0.5918\n",
      "3: Messina Club, with a distance of 0.6039\n",
      "4: Barbuzzo, with a distance of 0.6400\n",
      "5: 9th Street Bottle Shop, with a distance of 0.6799\n",
      "6: Barbuzzo, with a distance of 0.6915\n",
      "7: K'Far Cafe, with a distance of 0.7064\n",
      "8: Fine Wines & Good Spirits, with a distance of 0.7076\n",
      "9: City Deli II, with a distance of 0.7104\n",
      "10: B J's Country Store & Deli, with a distance of 0.7104\n"
     ]
    }
   ],
   "source": [
    "# Select the top 10 restaurants as the final recommendations and print the results\n",
    "all_recs_top10 = all_recs.sort_values(by='Distance', ascending=True).head(10)\n",
    "all_recs_top10[\"No\"] = range(1, len(all_recs_top10) + 1)\n",
    "all_recs_top10\n",
    "\n",
    "header_printed = False\n",
    "for i, row in all_recs_top10.iterrows():\n",
    "    if not header_printed:\n",
    "        print(f\"Recommendations for user {user_id}:\\n\")\n",
    "        header_printed = True\n",
    "    print(f\"{row['No']}: {row['Name']}, with a distance of {row['Distance']:.4f}\") \n"
   ]
  },
  {
   "cell_type": "markdown",
   "id": "4fd2ed7e-edfd-48aa-b49d-3c176aa43dd9",
   "metadata": {},
   "source": [
    "We have now successfully recommended 10 restaurants for a selected user based on their history. To take this a last step further, let's inspect the rating of these recommendations."
   ]
  },
  {
   "cell_type": "code",
   "execution_count": 62,
   "id": "5a55bfa8-eef5-4a96-acaf-f7a5bff3ff40",
   "metadata": {},
   "outputs": [
    {
     "data": {
      "text/html": [
       "<div>\n",
       "<style scoped>\n",
       "    .dataframe tbody tr th:only-of-type {\n",
       "        vertical-align: middle;\n",
       "    }\n",
       "\n",
       "    .dataframe tbody tr th {\n",
       "        vertical-align: top;\n",
       "    }\n",
       "\n",
       "    .dataframe thead th {\n",
       "        text-align: right;\n",
       "    }\n",
       "</style>\n",
       "<table border=\"1\" class=\"dataframe\">\n",
       "  <thead>\n",
       "    <tr style=\"text-align: right;\">\n",
       "      <th></th>\n",
       "      <th>No</th>\n",
       "      <th>Restaurant Name</th>\n",
       "      <th>Rating</th>\n",
       "    </tr>\n",
       "  </thead>\n",
       "  <tbody>\n",
       "    <tr>\n",
       "      <th>89</th>\n",
       "      <td>1</td>\n",
       "      <td>Di Bruno Bros. Catering &amp; Events</td>\n",
       "      <td>4.50</td>\n",
       "    </tr>\n",
       "    <tr>\n",
       "      <th>243</th>\n",
       "      <td>2</td>\n",
       "      <td>Al-Amana Grocery Store</td>\n",
       "      <td>5.00</td>\n",
       "    </tr>\n",
       "    <tr>\n",
       "      <th>244</th>\n",
       "      <td>3</td>\n",
       "      <td>Messina Club</td>\n",
       "      <td>4.36</td>\n",
       "    </tr>\n",
       "    <tr>\n",
       "      <th>430</th>\n",
       "      <td>4</td>\n",
       "      <td>Barbuzzo</td>\n",
       "      <td>4.27</td>\n",
       "    </tr>\n",
       "    <tr>\n",
       "      <th>90</th>\n",
       "      <td>5</td>\n",
       "      <td>9th Street Bottle Shop</td>\n",
       "      <td>3.30</td>\n",
       "    </tr>\n",
       "    <tr>\n",
       "      <th>364</th>\n",
       "      <td>6</td>\n",
       "      <td>Barbuzzo</td>\n",
       "      <td>4.27</td>\n",
       "    </tr>\n",
       "    <tr>\n",
       "      <th>320</th>\n",
       "      <td>7</td>\n",
       "      <td>K'Far Cafe</td>\n",
       "      <td>4.44</td>\n",
       "    </tr>\n",
       "    <tr>\n",
       "      <th>91</th>\n",
       "      <td>8</td>\n",
       "      <td>Fine Wines &amp; Good Spirits</td>\n",
       "      <td>2.75</td>\n",
       "    </tr>\n",
       "    <tr>\n",
       "      <th>178</th>\n",
       "      <td>9</td>\n",
       "      <td>City Deli II</td>\n",
       "      <td>2.93</td>\n",
       "    </tr>\n",
       "    <tr>\n",
       "      <th>177</th>\n",
       "      <td>10</td>\n",
       "      <td>B J's Country Store &amp; Deli</td>\n",
       "      <td>4.80</td>\n",
       "    </tr>\n",
       "  </tbody>\n",
       "</table>\n",
       "</div>"
      ],
      "text/plain": [
       "     No                   Restaurant Name  Rating\n",
       "89    1  Di Bruno Bros. Catering & Events    4.50\n",
       "243   2            Al-Amana Grocery Store    5.00\n",
       "244   3                      Messina Club    4.36\n",
       "430   4                          Barbuzzo    4.27\n",
       "90    5            9th Street Bottle Shop    3.30\n",
       "364   6                          Barbuzzo    4.27\n",
       "320   7                        K'Far Cafe    4.44\n",
       "91    8         Fine Wines & Good Spirits    2.75\n",
       "178   9                      City Deli II    2.93\n",
       "177  10        B J's Country Store & Deli    4.80"
      ]
     },
     "execution_count": 62,
     "metadata": {},
     "output_type": "execute_result"
    }
   ],
   "source": [
    "# Show the rating of the recommended retaurants\n",
    "all_recs_top10['Rating'] = all_recs_top10['Rating'].round(2)\n",
    "all_recs_top10[['No', 'Name', 'Rating']].rename(columns={'Name': 'Restaurant Name'})\n"
   ]
  },
  {
   "cell_type": "markdown",
   "id": "51e52d91-b6b1-4959-9384-49295936962d",
   "metadata": {},
   "source": [
    "## Conclusion"
   ]
  },
  {
   "cell_type": "markdown",
   "id": "9da4831c-0f2e-482c-b126-66db91fccef4",
   "metadata": {},
   "source": [
    "In this project, we successfully built two types of recommender systems to suggest restaurants based on either a restaurant or a user by leveraging the NearestNeighbors function from the sklearn package. We made some interesting observations about the dataset, and the performance of the first model was promising. When we input a restaurant that we are familiar with, the output included similar restaurants, aligning with our expectations.\n",
    "\n",
    "However, for the second model, we were unable to assess its performance without receiving feedback from users who tried the recommended restaurants. A potential next step to refine this model, especially if users are dissatisfied with the recommendations, would be to standardize recommendations across all users to see if the model improves.\n",
    "\n",
    "A more advanced enhancement would involve combining this item-based collaborative filtering approach with a user-based method, potentially integrating it with content-based models. This hybrid approach could further improve the quality of the recommendations and better address user preferences."
   ]
  }
 ],
 "metadata": {
  "kernelspec": {
   "display_name": "Python 3 (ipykernel)",
   "language": "python",
   "name": "python3"
  },
  "language_info": {
   "codemirror_mode": {
    "name": "ipython",
    "version": 3
   },
   "file_extension": ".py",
   "mimetype": "text/x-python",
   "name": "python",
   "nbconvert_exporter": "python",
   "pygments_lexer": "ipython3",
   "version": "3.12.4"
  }
 },
 "nbformat": 4,
 "nbformat_minor": 5
}
